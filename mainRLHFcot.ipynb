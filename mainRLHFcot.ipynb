{
 "cells": [
  {
   "cell_type": "markdown",
   "id": "4f0a00a5-3ff4-4022-8705-d07afe3b7368",
   "metadata": {},
   "source": [
    "\n",
    "## Chain of Thought RLHF\n"
   ]
  },
  {
   "cell_type": "code",
   "execution_count": 4,
   "id": "f6cbc902-0b6a-4e95-9a2f-44a64f381f1d",
   "metadata": {},
   "outputs": [],
   "source": [
    "\n",
    "## !pip install pandas\n",
    "## !pip install matplotlib\n",
    "## !pip install scikit-learn\n",
    "## !pip install datasets\n"
   ]
  },
  {
   "cell_type": "code",
   "execution_count": 5,
   "id": "445a7ab7-85bb-47b2-8988-da4a1b83e02f",
   "metadata": {},
   "outputs": [],
   "source": [
    "\n",
    "import torch\n",
    "import torch.nn as nn\n",
    "import torch.optim as optim\n",
    "\n",
    "from transformers import AutoModelForCausalLM, AutoTokenizer, LlamaForCausalLM, LlamaTokenizer\n",
    "from torch.utils.data import DataLoader, Dataset\n",
    "## from accelerate import init_empty_weights, load_checkpoint_and_dispatch\n",
    "\n",
    "\n",
    "import numpy as np\n",
    "\n",
    "import torch.nn.functional as F\n",
    "from transformers import GPT2Tokenizer, GPT2LMHeadModel\n",
    "\n",
    "\n",
    "import re\n",
    "from datasets import load_dataset, Dataset\n",
    "from transformers import AutoTokenizer, AutoModelForCausalLM\n",
    "## from peft import LoraConfig\n",
    "## from trl import GRPOConfig, GRPOTrainer\n",
    "\n"
   ]
  },
  {
   "cell_type": "code",
   "execution_count": 6,
   "id": "2fd94aed-21b8-4288-ae82-d44c2fae439c",
   "metadata": {},
   "outputs": [],
   "source": [
    "\n",
    "import rewards as rewards_module\n",
    "import dataRLHF as dataRLHF_module\n",
    "import lossesRLHF as lossesRLHF_module\n",
    "import GPTmodelRLHF as GPTmodelRLHF_module\n",
    "import configRLHF as configRLHF_module\n",
    "import trainingRLHF as trainingRLHF_module\n",
    "\n"
   ]
  },
  {
   "cell_type": "markdown",
   "id": "ce08e951-da73-440a-b1d7-369461ba58c9",
   "metadata": {},
   "source": [
    "\n",
    "## Instantiate\n"
   ]
  },
  {
   "cell_type": "code",
   "execution_count": 7,
   "id": "7e62b999-cbe8-4e48-b30c-dedd14f5ccd5",
   "metadata": {},
   "outputs": [
    {
     "ename": "NameError",
     "evalue": "name 'vocab_size' is not defined",
     "output_type": "error",
     "traceback": [
      "\u001b[0;31m---------------------------------------------------------------------------\u001b[0m",
      "\u001b[0;31mNameError\u001b[0m                                 Traceback (most recent call last)",
      "Cell \u001b[0;32mIn[7], line 3\u001b[0m\n\u001b[1;32m      1\u001b[0m rewards_obj           \u001b[38;5;241m=\u001b[39m rewards_module\u001b[38;5;241m.\u001b[39mCOTrewards()\n\u001b[0;32m----> 3\u001b[0m dataRLHF_obj          \u001b[38;5;241m=\u001b[39m \u001b[43mdataRLHF_module\u001b[49m\u001b[38;5;241;43m.\u001b[39;49m\u001b[43mdataCOT_RLHF\u001b[49m\u001b[43m(\u001b[49m\u001b[43m)\u001b[49m\n",
      "File \u001b[0;32m~/Desktop/AvantGardeDL/RLHF/cot_RLHF/dataRLHF.py:44\u001b[0m, in \u001b[0;36mdataCOT_RLHF.__init__\u001b[0;34m(self)\u001b[0m\n\u001b[1;32m     40\u001b[0m \u001b[38;5;28mself\u001b[39m\u001b[38;5;241m.\u001b[39mMyName            \u001b[38;5;241m=\u001b[39m \u001b[38;5;124m'\u001b[39m\u001b[38;5;124mData RLHF COT\u001b[39m\u001b[38;5;124m'\u001b[39m\n\u001b[1;32m     42\u001b[0m \u001b[38;5;66;03m##  Was: data -- Dummy data: sequence input and target\u001b[39;00m\n\u001b[1;32m     43\u001b[0m data_dummy \u001b[38;5;241m=\u001b[39m [( \n\u001b[0;32m---> 44\u001b[0m        torch\u001b[38;5;241m.\u001b[39mrandint( \u001b[38;5;241m0\u001b[39m, \u001b[43mvocab_size\u001b[49m, (\u001b[38;5;241m4\u001b[39m, block_size)), \n\u001b[1;32m     45\u001b[0m        torch\u001b[38;5;241m.\u001b[39mrandint( \u001b[38;5;241m0\u001b[39m, vocab_size, (\u001b[38;5;241m4\u001b[39m, block_size))\n\u001b[1;32m     46\u001b[0m )]\n\u001b[1;32m     47\u001b[0m SYSTEM_PROMPT \u001b[38;5;241m=\u001b[39m \u001b[38;5;124m\"\"\"\u001b[39m\n\u001b[1;32m     48\u001b[0m \u001b[38;5;124m                Respond in the following format:\u001b[39m\n\u001b[1;32m     49\u001b[0m \u001b[38;5;124m               <reasoning>\u001b[39m\n\u001b[0;32m   (...)\u001b[0m\n\u001b[1;32m     54\u001b[0m \u001b[38;5;124m               </answer>\u001b[39m\n\u001b[1;32m     55\u001b[0m \u001b[38;5;124m               \u001b[39m\u001b[38;5;124m\"\"\"\u001b[39m\n",
      "\u001b[0;31mNameError\u001b[0m: name 'vocab_size' is not defined"
     ]
    }
   ],
   "source": [
    "\n",
    "rewards_obj           = rewards_module.COTrewards()\n",
    "\n",
    "dataRLHF_obj          = dataRLHF_module.dataCOT_RLHF()\n",
    "\n",
    "lossesRLHF_obj        = lossesRLHF_module.lossesRLHF()\n",
    "\n",
    "GPTmodelRLHF_obj      = GPTmodelRLHF_module.GPTmodelRLHF()\n",
    "\n",
    "configRLHF_obj        = configRLHF_module.configRLHF()\n",
    "\n",
    "trainingRLHF_obj      = trainingRLHF_module.trainingRLHF()\n"
   ]
  },
  {
   "cell_type": "markdown",
   "id": "5afc6340-6dda-4712-bfac-23b6b812455f",
   "metadata": {},
   "source": [
    "\n",
    "## Main_Loop\n"
   ]
  },
  {
   "cell_type": "code",
   "execution_count": null,
   "id": "d2f79f6b-a36b-4bb5-b190-5ada9c4f1c96",
   "metadata": {},
   "outputs": [],
   "source": [
    "\n",
    "rewards_obj.printName()    \n",
    "dataRLHF_obj.printName()  \n",
    "lossesRLHF_obj.printName()  \n",
    "GPTmodelRLHF_obj.printName()  \n",
    "configRLHF_obj.printName()\n",
    "trainingRLHF.printName()\n"
   ]
  },
  {
   "cell_type": "code",
   "execution_count": null,
   "id": "3381a594-766f-4800-8c12-585faecfdc1f",
   "metadata": {},
   "outputs": [],
   "source": []
  },
  {
   "cell_type": "code",
   "execution_count": null,
   "id": "9cebb932-3dc6-4ac2-999b-0f545b008669",
   "metadata": {},
   "outputs": [],
   "source": []
  },
  {
   "cell_type": "code",
   "execution_count": null,
   "id": "a353bddf-80b8-464c-8b6d-81cd43ede82b",
   "metadata": {},
   "outputs": [],
   "source": []
  },
  {
   "cell_type": "code",
   "execution_count": null,
   "id": "190b70a2-534f-49ab-ac9b-d412ee4a65ae",
   "metadata": {},
   "outputs": [],
   "source": []
  },
  {
   "cell_type": "code",
   "execution_count": null,
   "id": "f356a81c-e36d-4b02-8860-f8afcafabd6c",
   "metadata": {},
   "outputs": [],
   "source": []
  },
  {
   "cell_type": "code",
   "execution_count": null,
   "id": "78f539e2-060c-4a40-b0ce-8eddc4c85ce9",
   "metadata": {},
   "outputs": [],
   "source": []
  },
  {
   "cell_type": "code",
   "execution_count": null,
   "id": "83519d41-59fc-4e81-ad77-9e41f9e5b87d",
   "metadata": {},
   "outputs": [],
   "source": []
  },
  {
   "cell_type": "code",
   "execution_count": null,
   "id": "0f94c7ea-1941-4ddf-94a1-dc2218e50cbb",
   "metadata": {},
   "outputs": [],
   "source": []
  },
  {
   "cell_type": "code",
   "execution_count": null,
   "id": "92fa8e14-c220-4446-9b66-c6e97612a487",
   "metadata": {},
   "outputs": [],
   "source": []
  }
 ],
 "metadata": {
  "kernelspec": {
   "display_name": "Python 3 (ipykernel)",
   "language": "python",
   "name": "python3"
  },
  "language_info": {
   "codemirror_mode": {
    "name": "ipython",
    "version": 3
   },
   "file_extension": ".py",
   "mimetype": "text/x-python",
   "name": "python",
   "nbconvert_exporter": "python",
   "pygments_lexer": "ipython3",
   "version": "3.9.21"
  }
 },
 "nbformat": 4,
 "nbformat_minor": 5
}
